{
 "cells": [
  {
   "cell_type": "code",
   "execution_count": 1,
   "metadata": {},
   "outputs": [],
   "source": [
    "import pandas as pd"
   ]
  },
  {
   "cell_type": "code",
   "execution_count": null,
   "metadata": {},
   "outputs": [],
   "source": [
    "arquivo = 'COLECAO_ACARI.xlsx'\n",
    "sheet_name = ['Planilha 2024', 'planilha_unificada']\n",
    "\n",
    "df = pd.read_excel(arquivo,sheet_name=sheet_name)\n",
    "\n",
    "# Unificar as planilhas\n",
    "df_darwincore = pd.concat(\n",
    "    [pd.DataFrame(df[sheet_name[0]]),pd.DataFrame(df[sheet_name[1]])],\n",
    "    ignore_index=True\n",
    ")\n"
   ]
  },
  {
   "cell_type": "code",
   "execution_count": 3,
   "metadata": {},
   "outputs": [],
   "source": [
    "df_darwincore.to_csv('unificada.csv')"
   ]
  }
 ],
 "metadata": {
  "kernelspec": {
   "display_name": "Python 3",
   "language": "python",
   "name": "python3"
  },
  "language_info": {
   "codemirror_mode": {
    "name": "ipython",
    "version": 3
   },
   "file_extension": ".py",
   "mimetype": "text/x-python",
   "name": "python",
   "nbconvert_exporter": "python",
   "pygments_lexer": "ipython3",
   "version": "3.10.11"
  }
 },
 "nbformat": 4,
 "nbformat_minor": 2
}
